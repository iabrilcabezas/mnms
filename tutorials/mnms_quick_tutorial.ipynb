{
 "cells": [
  {
   "cell_type": "markdown",
   "metadata": {},
   "source": [
    "## Scope\n",
    "In this notebook we give a very brief tutorial which focuses on the mnms python user interface. We'll use a heavily bandlimited version of the `pa6b`(a.k.a. `pa6_f150`) data so that our operations are fast, even though you will probably never use that sim. This way you know how to use mnms in your own analysis code.\n",
    "\n",
    "## Tutorial\n",
    "\n",
    "In mnms, we always need to generate a \"sqrt-covariance\" matrix as a first step; only then can we generate sims:"
   ]
  },
  {
   "cell_type": "code",
   "execution_count": null,
   "metadata": {},
   "outputs": [],
   "source": [
    "from mnms import noise_models as nm, utils, soapack_utils"
   ]
  },
  {
   "cell_type": "markdown",
   "id": "67ee8d20",
   "metadata": {},
   "source": [
    "Typically, we load a `NoiseModel` instance from a config file. The config file stores all of the model parameters, as well as how those parameters map onto filenames (for covariance matrices, sims, etc.). We can start with the `dr6_default_cosmo` config:"
   ]
  },
  {
   "cell_type": "code",
   "execution_count": null,
   "id": "d230526a",
   "metadata": {},
   "outputs": [],
   "source": [
    "config = utils.config_from_yaml_resource('configs/dr6_default_cosmo.yaml')\n",
    "print(nm.yaml.dump(config))"
   ]
  },
  {
   "cell_type": "markdown",
   "metadata": {},
   "source": [
    "Create a `TiledNoiseModel` instance by loading from this config directly:"
   ]
  },
  {
   "cell_type": "code",
   "execution_count": null,
   "metadata": {},
   "outputs": [],
   "source": [
    "tnm = nm.TiledNoiseModel.from_config('dr6_default_cosmo', 'pa6b')"
   ]
  },
  {
   "cell_type": "markdown",
   "id": "54c5871e",
   "metadata": {},
   "source": [
    "Now we need to make our noise model. Because they are the slowest step to make, and take up a lot of space, by default they are written to disk. The idea is that outside of testing/development, you only need to ever run this command once (per data-release, array-set, other parameters, etc). As you can see, a lot of the time in the below cell is spent loading and preparing the input data.\n",
    "\n",
    "To keep runtimes fast, we use a low `lmax` of 2000. This cell will take a couple minutes (if it only takes a few seconds, it's probably because someone has already run this notebook and saved models into the same directory. Just change the `lmax` to something unique like 2005 etc. and rerun. Or set `check_on_disk=False`):"
   ]
  },
  {
   "cell_type": "code",
   "execution_count": null,
   "id": "899bf8a3",
   "metadata": {},
   "outputs": [],
   "source": [
    "_ = tnm.get_model(0, 2000, keep_model=True)"
   ]
  },
  {
   "cell_type": "markdown",
   "id": "2439e99c",
   "metadata": {},
   "source": [
    "Now make a `WaveletNoiseModel` instance (again, most of the time here is spent loading input data!):"
   ]
  },
  {
   "cell_type": "code",
   "execution_count": null,
   "metadata": {},
   "outputs": [],
   "source": [
    "wnm = nm.WaveletNoiseModel.from_config('dr6_default_cosmo', 'pa6b')"
   ]
  },
  {
   "cell_type": "markdown",
   "metadata": {},
   "source": [
    "And make the noise model again (same thing as before -- if this takes only a few seconds, change the `lmax` to something unique):"
   ]
  },
  {
   "cell_type": "code",
   "execution_count": null,
   "metadata": {},
   "outputs": [],
   "source": [
    "_ = wnm.get_model(0, 2000, keep_model=True)"
   ]
  },
  {
   "cell_type": "markdown",
   "metadata": {},
   "source": [
    "To save you from accidentally regenerating the exact same model again, the arguments `check_in_memory` and `check_on_disk` are `True` by default. If I rerun `get_model`, it will find that the model is already loaded in-memory, and return it in a dictionary. If the model was not yet in memory but was on-disk instead, these cells would take a tiny bit longer as the model would have to be loaded -- but still much shorter than running the model again!"
   ]
  },
  {
   "cell_type": "code",
   "execution_count": null,
   "metadata": {},
   "outputs": [],
   "source": [
    "_ = tnm.get_model(0, 2000)"
   ]
  },
  {
   "cell_type": "code",
   "execution_count": null,
   "metadata": {},
   "outputs": [],
   "source": [
    "_ = wnm.get_model(0, 2000)"
   ]
  },
  {
   "cell_type": "markdown",
   "metadata": {},
   "source": [
    "That was fast, and that's because the models are in-memory (and on-disk). Let's look at my `covmat_path` from the `mnms` block of my soapack config (if you changed the `lmax` in your models, replace that search string below):"
   ]
  },
  {
   "cell_type": "code",
   "execution_count": null,
   "metadata": {},
   "outputs": [],
   "source": [
    "ls /scratch/gpfs/zatkins/data/ACTCollaboration/mnms/covmats/*lmax2000*"
   ]
  },
  {
   "cell_type": "markdown",
   "metadata": {},
   "source": [
    "Now we can make sims. Here we see the reason noise model files are only loaded once by default: so that future calls to `get_sim` do not have to spend time loading them from disk! \n",
    "\n",
    "By default, sims are ***not*** saved to disk (but they can be, if desired). We need to tell `get_sim` which split, map number, and model `lmax` we want to make. The map number is used in getting a unique random seed (and if the sims is written to disk, will be stored in the filename, according to our config):"
   ]
  },
  {
   "cell_type": "code",
   "execution_count": null,
   "metadata": {},
   "outputs": [],
   "source": [
    "talm_s0_n123_lmax2000 = tnm.get_sim(0, 124, 2000)"
   ]
  },
  {
   "cell_type": "code",
   "execution_count": null,
   "metadata": {},
   "outputs": [],
   "source": [
    "walm_s0_n123_lmax2000 = wnm.get_sim(0, 124, 2000)"
   ]
  },
  {
   "cell_type": "markdown",
   "metadata": {},
   "source": [
    "As noted in the README, these sims always have shape (num_arrays, num_splits, num_pol, ny, nx), even if some of these axes have dimension 1. Because we generate sims per split, `num_splits=1` always. Let's take a look! "
   ]
  },
  {
   "cell_type": "code",
   "execution_count": null,
   "metadata": {},
   "outputs": [],
   "source": [
    "shape, wcs = soapack_utils.read_map_geometry(utils.get_data_model('dr6v3'), 'pa6b')\n",
    "shape, wcs = utils.downgrade_geometry_cc_quad(shape, wcs, 4)\n",
    "\n",
    "tmap_s0_n123_lmax2000 = utils.alm2map(talm_s0_n123_lmax2000, shape=shape, wcs=wcs)\n",
    "wmap_s0_n123_lmax2000 = utils.alm2map(walm_s0_n123_lmax2000, shape=shape, wcs=wcs)\n",
    "\n",
    "utils.eshow(tmap_s0_n123_lmax2000, colorbar=True, downgrade=8, ticks=30)\n",
    "utils.eshow(wmap_s0_n123_lmax2000, colorbar=True, downgrade=8, ticks=30)"
   ]
  },
  {
   "cell_type": "markdown",
   "id": "0cf0cedd",
   "metadata": {},
   "source": [
    "A nice feature is that we can take two models and stitch their sims together in harmonic space. We'll have a transition region from ell=4000 to ell=5000, with a cosine profile. We'll let the `FDWNoiseModel` be the low-ell model by ordering it first when we build a `HarmonicMixture` object. Unlike earlier, we also need to tell the `HarmonicMixture` the `lmaxs` we would like to call on each `NoiseModel` at construction time:"
   ]
  },
  {
   "cell_type": "code",
   "execution_count": null,
   "id": "85de4ea2",
   "metadata": {},
   "outputs": [],
   "source": [
    "fnm = nm.FDWNoiseModel.from_config('dr6_default_cosmo', 'pa6b')\n",
    "\n",
    "hm = nm.HarmonicMixture([fnm, tnm], [5400, 10800], [4000], [5000])\n",
    "stitched_sim_s0_n123 = hm.get_sim(0, 1)"
   ]
  },
  {
   "cell_type": "markdown",
   "id": "af412f95",
   "metadata": {},
   "source": [
    "This was especially fast because we had saved these high-resolution sims to disk ***as alms*** beforehand, and we passed `check_on_disk=True`. Only the \"stitching\" step was performed on-the-fly. Anyway, we can take a look:"
   ]
  },
  {
   "cell_type": "code",
   "execution_count": null,
   "id": "ae05aefa",
   "metadata": {},
   "outputs": [],
   "source": [
    "shape, wcs = soapack_utils.read_map_geometry(utils.get_data_model('dr6v3'), 'pa6b')\n",
    "shape, wcs = utils.downgrade_geometry_cc_quad(shape, wcs, 2)\n",
    "\n",
    "stitched_sim_s0_n123 = utils.alm2map(stitched_sim_s0_n123, shape=shape, wcs=wcs)\n",
    "utils.eshow(stitched_sim_s0_n123, colorbar=True, downgrade=16, ticks=30)"
   ]
  }
 ],
 "metadata": {
  "kernelspec": {
   "display_name": "cmb-della8",
   "language": "python",
   "name": "cmb-della8"
  },
  "language_info": {
   "codemirror_mode": {
    "name": "ipython",
    "version": 3
   },
   "file_extension": ".py",
   "mimetype": "text/x-python",
   "name": "python",
   "nbconvert_exporter": "python",
   "pygments_lexer": "ipython3",
   "version": "3.8.3"
  },
  "vscode": {
   "interpreter": {
    "hash": "865976abd0b55699b05d0ad4cce6c7c2f92f44cd2e23dba802bcff52f30b4b2d"
   }
  }
 },
 "nbformat": 4,
 "nbformat_minor": 5
}
