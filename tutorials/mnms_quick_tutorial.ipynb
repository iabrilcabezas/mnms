{
 "cells": [
  {
   "attachments": {},
   "cell_type": "markdown",
   "id": "4769c149",
   "metadata": {},
   "source": [
    "In this notebook we give a very brief tutorial which focuses on the `mnms` python user interface. We'll use the recently released `act_dr6.01` products which are available on `NERSC` and at Princeton (`della`). We will first cover how we obtain a noise simulation -- either from disk or on-the-fly. Then, we'll cover how we generate a model -- the (square-root) covariance matrix from which simulations are drawn. Because the raw `act_dr6.01` maps are not yet available on `NERSC`, we won't yet be able to make a model there.\n",
    "\n",
    "#### ACT DR6.01\n",
    "We have released a set of noise models and simulations for `act_dr6.01`. The metadata for these products is stored in a config file at `mnms/configs/act_dr6.01_cmbmask.yaml`. Let's take a quick look to know what we're dealing with:"
   ]
  },
  {
   "cell_type": "code",
   "execution_count": null,
   "id": "2ebc6d88",
   "metadata": {},
   "outputs": [],
   "source": [
    "from mnms import noise_models as nm, utils\n",
    "from sofind import utils as s_utils\n",
    "from pixell import enmap\n",
    "import yaml\n",
    "\n",
    "config_fn = utils.get_mnms_fn('act_dr6.01_cmbmask.yaml', 'configs')\n",
    "config_dict = s_utils.config_from_yaml_file(config_fn)\n",
    "print(yaml.safe_dump(config_dict))"
   ]
  },
  {
   "attachments": {},
   "cell_type": "markdown",
   "id": "67ee8d20",
   "metadata": {},
   "source": [
    "We shouldn't try to understand every detail here --- if you'd like, feel free to read the documentation in `mnms/noise_models.py` for what each individual entry means. But we should understand the broad strokes:\n",
    "\n",
    "`BaseNoiseModel`\n",
    "* These are kwargs that configure the base classes of each noise model. For instance, which [sofind](https://github.com/simonsobs/sofind) data model will we load raw data (i.e., maps) from? `act_dr6.01`, of course! Are we using point-source subtracted maps in the models (a.k.a. `srcfree` maps)? Yes, we are. Why do we add `cmbmask` to the noise model configuration filename, if the data are just coming from `act_dr6.01`? Because we specify a `mask_obs_name` --- for reasons discussed in [Atkins et. al. 2023](http://arxiv.org), our noise simulations have a slightly restricted mask relative to the full ACT DR6.01 dataset in order to optimize performance for \"CMB\" analyses. This mask is specified by the `mask_obs_name`; hence, we denote models configured here as being `cmbmask`ed. \n",
    "\n",
    "e.g. `FDWNoiseModel`\n",
    "* These are kwargs specific to the directional wavelet noise model. For instance, the wavelet log spacing in $\\ell$ is $\\lambda=1.6$ (see the \"scale-discrete\" wavelets from the [S2LET](https://arxiv.org/abs/1211.1680) folks).\n",
    "\n",
    "So if we load an `FDWNoiseModel` instance from this config, it will grab the settings from *both* the `BaseNoiseModel` block and the `FDWNoiseModel` block.\n",
    "\n",
    "The `TiledNoiseModel` is computationally the lightest, so let's work with it here:"
   ]
  },
  {
   "cell_type": "code",
   "execution_count": null,
   "id": "d230526a",
   "metadata": {},
   "outputs": [],
   "source": [
    "tnm = nm.TiledNoiseModel.from_config('act_dr6.01_cmbmask', 'pa5a', 'pa5b')"
   ]
  },
  {
   "attachments": {},
   "cell_type": "markdown",
   "id": "2908ca29",
   "metadata": {},
   "source": [
    "We had to specify which `qids`, or detector sets, for which to build a noise model. Granular information on the `qids` can be found in `sofind`, but we release models for the following pairs of `qids`:\n",
    "* [`pa4a`, `pa4b`] (i.e., PA4 f150 and f220)\n",
    "* [`pa5a`, `pa5b`] (i.e., PA5 f090 and f150)\n",
    "* [`pa6a`, `pa6b`] (i.e., PA6 f090 and f150)\n",
    "\n",
    "By supplying a pair of frequency bands to the noise model instance, our model will account for correlations between their noise.\n",
    "\n",
    "#### Getting a noise sim\n",
    "\n",
    "Let's explore how we might load a noise sim from disk, or generate one on-the-fly. These behaviors are controlled by the `generate` and `check_on_disk` kwargs of the `get_sim` method:"
   ]
  },
  {
   "cell_type": "code",
   "execution_count": null,
   "id": "e7e6c964",
   "metadata": {},
   "outputs": [],
   "source": [
    "# By default, generate=True and check_on_disk=True. We try loading a sim from disk first,\n",
    "# or generating it on-the-fly if it does not exist.\n",
    "my_sim = tnm.get_sim(split_num=2, sim_num=4, lmax=5400)"
   ]
  },
  {
   "attachments": {},
   "cell_type": "markdown",
   "id": "1f5a7bd8",
   "metadata": {},
   "source": [
    "Great, that was fast! That's because this sim exists on disk (you can find it, if you like). We only release `sim_num`s from 0 to 29, so calling a higher number will generate a sim on-the-fly:"
   ]
  },
  {
   "cell_type": "code",
   "execution_count": null,
   "id": "e2693928",
   "metadata": {},
   "outputs": [],
   "source": [
    "my_new_sim = tnm.get_sim(split_num=4, sim_num=1234, lmax=5400)"
   ]
  },
  {
   "attachments": {},
   "cell_type": "markdown",
   "id": "84c9d104",
   "metadata": {},
   "source": [
    "The first time we run this, it will take some time --- most of it is spent loading auxiliary data from disk that we need before we can draw the sim. This includes loading the (square-root) noise covariance, or noise `model`, as well as the `mask_obs` that will define the footprint for the sim. By default, these objects are stored in memory so that subsequent calls to `get_sim` (for the same `split_num` and `lmax`) are much faster:"
   ]
  },
  {
   "cell_type": "code",
   "execution_count": null,
   "id": "379242fd",
   "metadata": {},
   "outputs": [],
   "source": [
    "my_newer_sim = tnm.get_sim(split_num=4, sim_num=2468, lmax=5400)"
   ]
  },
  {
   "attachments": {},
   "cell_type": "markdown",
   "id": "8b980411",
   "metadata": {},
   "source": [
    "Great, that *was* much faster.\n",
    "\n",
    "We can force generating a sim on-the-fly if it already exists on disk by passing `check_on_disk=False` (but why would you do that?). Also, we can force only loading a sim from disk, and never generating on-the-fly, e.g. if you made a large batch of sims that you've saved and don't want to compute a second time:"
   ]
  },
  {
   "cell_type": "code",
   "execution_count": null,
   "id": "5bede3f3",
   "metadata": {},
   "outputs": [],
   "source": [
    "my_sim = tnm.get_sim(split_num=4, sim_num=29, lmax=5400, generate=False)"
   ]
  },
  {
   "attachments": {},
   "cell_type": "markdown",
   "id": "8c01b722",
   "metadata": {},
   "source": [
    "How about:"
   ]
  },
  {
   "cell_type": "code",
   "execution_count": null,
   "id": "a41d4a41",
   "metadata": {},
   "outputs": [],
   "source": [
    "my_newer_sim = tnm.get_sim(split_num=4, sim_num=2468, lmax=5400, generate=False)"
   ]
  },
  {
   "attachments": {},
   "cell_type": "markdown",
   "id": "710eaf2b",
   "metadata": {},
   "source": [
    "Oops! We got `my_sim` because we've released `sim_num=29`, but we got an error because `sim_num=2468` does not exist on disk, and we have prevented ourselves from generating it on-the-fly with `generate=False`.\n",
    "\n",
    "We should note a few properties of our sim:"
   ]
  },
  {
   "cell_type": "code",
   "execution_count": null,
   "id": "af5b9b33",
   "metadata": {},
   "outputs": [],
   "source": [
    "my_sim.geometry, my_sim.dtype"
   ]
  },
  {
   "attachments": {},
   "cell_type": "markdown",
   "id": "eda21f23",
   "metadata": {},
   "source": [
    "The sim shape begins with `(2, 1, 3)`, corresponding to `(qid, split, pol)` (we only ever have one sim per split, so the shape of the `split` axis is always 1). Thus, the `f150, U` component of the sim is given by:"
   ]
  },
  {
   "cell_type": "code",
   "execution_count": null,
   "id": "2d4dfcbe",
   "metadata": {},
   "outputs": [],
   "source": [
    "f150_u = my_sim[1, 0, 2]"
   ]
  },
  {
   "attachments": {},
   "cell_type": "markdown",
   "id": "f191fbe7",
   "metadata": {},
   "source": [
    "The shape of the sim is \"downgraded\" by a factor of 4 relative to the raw ACT DR6.01 data (i.e., its pixels are .0333 degrees, or 2 arcminutes). This is because the Nyquist bandlimit of the noise model (and sim) we specified is `lmax=5400`, which is 4 times lower than that of the raw data (`21600`). Note, we have only released products at this `lmax`: supplying a different `lmax` will require generating that different noise model (and sim) first.\n",
    "\n",
    "Let's take a look at some sims quickly! We can appreciate the difference between the 3 noise models we implement:"
   ]
  },
  {
   "cell_type": "code",
   "execution_count": null,
   "id": "6ba3921c",
   "metadata": {},
   "outputs": [],
   "source": [
    "my_nms = [\n",
    "    nm.TiledNoiseModel.from_config('act_dr6.01_cmbmask', 'pa4a', 'pa4b'),\n",
    "    nm.WaveletNoiseModel.from_config('act_dr6.01_cmbmask', 'pa4a', 'pa4b'),\n",
    "    nm.FDWNoiseModel.from_config('act_dr6.01_cmbmask', 'pa4a', 'pa4b')\n",
    "]\n",
    "\n",
    "# we'll compare the f220 Q components \n",
    "utils.plot(enmap.enmap([my_nm.get_sim(0, 0, 5400)[1, 0, 2] for my_nm in my_nms]), downgrade=8, ticks=15, range=750, colorbar_label='$\\mu$K', colorbar_labelpad=-14)"
   ]
  },
  {
   "attachments": {},
   "cell_type": "markdown",
   "id": "acb70f5d",
   "metadata": {},
   "source": [
    "In order, these are `tiled`, `isotropic wavelet`, and `directional wavelet` sims. The PA4 f220 band is the noisiest in the ACT DR6.01 release, so these noise sims are perhaps the most interesting visually."
   ]
  },
  {
   "attachments": {},
   "cell_type": "markdown",
   "id": "2367016f",
   "metadata": {},
   "source": [
    "#### Getting a noise model\n",
    "\n",
    "So, how about getting a new noise model, e.g. with a different `lmax`? We will show how we can do this, although, unless you have the raw ACT DR6.01 maps on disk (and these are **not yet public**, so this would only be if you are an ACT member), this will likely raise some `FileNotFoundError`s for you. But, you could use these examples to make noise models (and sims) of your own pre-existing data, if you wanted!\n",
    "\n",
    "The interface is very similar to `get_sim`:"
   ]
  },
  {
   "cell_type": "code",
   "execution_count": null,
   "id": "4e48b93f",
   "metadata": {},
   "outputs": [],
   "source": [
    "# likely we want to write this model to-disk, so we will supply write=True.\n",
    "# there are also kwargs for whether we want to keep the model in memory (e.g.,\n",
    "# if we are about to draw sims from it in the same script). see the docs!\n",
    "\n",
    "tnm.get_model(split_num=6, lmax=8100, write=True)"
   ]
  },
  {
   "attachments": {},
   "cell_type": "markdown",
   "id": "c38ba01c",
   "metadata": {},
   "source": [
    "Again, this likely failed for you, because we haven't yet made public all the ACT DR6.01 data (including sky masks and raw maps). If/when that happens, we will populate the relevant directories with products. You shouldn't have to change anything --- this cell will just work!"
   ]
  }
 ],
 "metadata": {
  "kernelspec": {
   "display_name": "cmb-della8",
   "language": "python",
   "name": "cmb-della8"
  },
  "language_info": {
   "codemirror_mode": {
    "name": "ipython",
    "version": 3
   },
   "file_extension": ".py",
   "mimetype": "text/x-python",
   "name": "python",
   "nbconvert_exporter": "python",
   "pygments_lexer": "ipython3",
   "version": "3.8.3"
  },
  "vscode": {
   "interpreter": {
    "hash": "865976abd0b55699b05d0ad4cce6c7c2f92f44cd2e23dba802bcff52f30b4b2d"
   }
  }
 },
 "nbformat": 4,
 "nbformat_minor": 5
}
